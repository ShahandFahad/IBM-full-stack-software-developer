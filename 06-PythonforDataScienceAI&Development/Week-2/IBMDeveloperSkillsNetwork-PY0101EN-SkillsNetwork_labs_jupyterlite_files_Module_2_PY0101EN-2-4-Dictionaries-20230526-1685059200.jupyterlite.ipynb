{
  "metadata": {
    "language_info": {
      "codemirror_mode": {
        "name": "python",
        "version": 3
      },
      "file_extension": ".py",
      "mimetype": "text/x-python",
      "name": "python",
      "nbconvert_exporter": "python",
      "pygments_lexer": "ipython3",
      "version": "3.8"
    },
    "kernelspec": {
      "name": "python",
      "display_name": "Python (Pyodide)",
      "language": "python"
    }
  },
  "nbformat_minor": 4,
  "nbformat": 4,
  "cells": [
    {
      "cell_type": "markdown",
      "source": "<center>\n    <img src=\"https://cf-courses-data.s3.us.cloud-object-storage.appdomain.cloud/IBMDeveloperSkillsNetwork-PY0101EN-SkillsNetwork/IDSNlogo.png\" width=\"300\" alt=\"cognitiveclass.ai logo\">\n</center>\n\n# Dictionaries in Python\n\nEstimated time needed: **25** minutes\n\n## Objectives\n\nAfter completing this lab you will be able to:\n\n*  Create a Dictionary and perform operations on the Dictionary\n",
      "metadata": {}
    },
    {
      "cell_type": "markdown",
      "source": "<h2>Table of Contents</h2>\n<div class=\"alert alert-block alert-info\" style=\"margin-top: 20px\">\n    <ul>\n        <li>\n            <a href=\"#dic\">Dictionaries</a>\n            <ul>\n                <li><a href=\"#content\">What are Dictionaries?</a></li>\n                <li><a href=\"#keys\">Keys</a></li>\n            </ul>\n        </li>\n        <li>\n            <a href=\"#quiz\">Quiz on Dictionaries</a>\n        </li>\n        <li> \n            <a href=\"#Scenario\">Scenario</a>\n        </li>\n    </ul>\n\n</div>\n\n<hr>\n",
      "metadata": {}
    },
    {
      "cell_type": "markdown",
      "source": "<a id=\"dic\"></a>\n## Dictionaries\n",
      "metadata": {}
    },
    {
      "cell_type": "markdown",
      "source": "<a id=\"content\"></a>\n## What are Dictionaries?\n",
      "metadata": {}
    },
    {
      "cell_type": "markdown",
      "source": "A dictionary consists of keys and values. It is helpful to compare a dictionary to a list. Instead of being indexed numerically like a list, dictionaries have keys. These keys are the keys that are used to access values within a dictionary.   \n\n\nThe best example of a dictionary can be accessing person's detais using the **social security number**.   \nHere the social security number which is a unique number will be the **key** and the details of the people will be the **values** associated with it.\n",
      "metadata": {}
    },
    {
      "cell_type": "markdown",
      "source": "<img src=\"https://cf-courses-data.s3.us.cloud-object-storage.appdomain.cloud/IBMDeveloperSkillsNetwork-PY0101EN-SkillsNetwork/labs/Module%202/images/DictsList.png\" width=\"650\">\n",
      "metadata": {}
    },
    {
      "cell_type": "markdown",
      "source": "### Create a Dictionary and access the elements\n",
      "metadata": {}
    },
    {
      "cell_type": "markdown",
      "source": "An example of a Dictionary <code>Dict</code>:\nHere we are creating a dictionary named **Dict** with he following details\n\n* Keys are **key1, key2, key3, key4, key5**.\n* Values are {1,2,[3,3,3],(4,4,4),5,(0,1):6} corresponding to the keys\n",
      "metadata": {}
    },
    {
      "cell_type": "code",
      "source": "# Create the dictionary\n\nDict = {\"key1\": 1, \"key2\": \"2\", \"key3\": [3, 3, 3], \"key4\": (4, 4, 4), ('key5'): 5, (0, 1): 6}\nDict",
      "metadata": {
        "trusted": true
      },
      "execution_count": 1,
      "outputs": [
        {
          "execution_count": 1,
          "output_type": "execute_result",
          "data": {
            "text/plain": "{'key1': 1,\n 'key2': '2',\n 'key3': [3, 3, 3],\n 'key4': (4, 4, 4),\n 'key5': 5,\n (0, 1): 6}"
          },
          "metadata": {}
        }
      ]
    },
    {
      "cell_type": "markdown",
      "source": "The keys can be strings:\n",
      "metadata": {}
    },
    {
      "cell_type": "code",
      "source": "# Access to the value by the key\n\nDict[\"key1\"]",
      "metadata": {
        "trusted": true
      },
      "execution_count": 2,
      "outputs": [
        {
          "execution_count": 2,
          "output_type": "execute_result",
          "data": {
            "text/plain": "1"
          },
          "metadata": {}
        }
      ]
    },
    {
      "cell_type": "markdown",
      "source": "Keys can also be any immutable object such as a tuple:\n",
      "metadata": {}
    },
    {
      "cell_type": "code",
      "source": "# Access to the value by the key\n\nDict[(0, 1)]",
      "metadata": {
        "trusted": true
      },
      "execution_count": 3,
      "outputs": [
        {
          "execution_count": 3,
          "output_type": "execute_result",
          "data": {
            "text/plain": "6"
          },
          "metadata": {}
        }
      ]
    },
    {
      "cell_type": "markdown",
      "source": "Each key is separated from its value by a colon \"<code>:</code>\".  Commas separate the items, and the whole dictionary is enclosed in curly braces. An empty dictionary without any items is written with just two curly braces, like this  \"<code>{}</code>\".\n",
      "metadata": {}
    },
    {
      "cell_type": "code",
      "source": "# Create a sample dictionary\n\nrelease_year_dict = {\"Thriller\": \"1982\", \"Back in Black\": \"1980\", \\\n                    \"The Dark Side of the Moon\": \"1973\", \"The Bodyguard\": \"1992\", \\\n                    \"Bat Out of Hell\": \"1977\", \"Their Greatest Hits (1971-1975)\": \"1976\", \\\n                    \"Saturday Night Fever\": \"1977\", \"Rumours\": \"1977\"}\nrelease_year_dict",
      "metadata": {
        "trusted": true
      },
      "execution_count": 4,
      "outputs": [
        {
          "execution_count": 4,
          "output_type": "execute_result",
          "data": {
            "text/plain": "{'Thriller': '1982',\n 'Back in Black': '1980',\n 'The Dark Side of the Moon': '1973',\n 'The Bodyguard': '1992',\n 'Bat Out of Hell': '1977',\n 'Their Greatest Hits (1971-1975)': '1976',\n 'Saturday Night Fever': '1977',\n 'Rumours': '1977'}"
          },
          "metadata": {}
        }
      ]
    },
    {
      "cell_type": "markdown",
      "source": "In summary, like a list, a dictionary holds a sequence of elements. Each element is represented by a key and its corresponding value. Dictionaries are created with two curly braces containing keys and values separated by a colon. For every key, there can only be one single value, however,  multiple keys can hold the same value. Keys can only be strings, numbers, or tuples, but values can be any data type.\n",
      "metadata": {}
    },
    {
      "cell_type": "markdown",
      "source": "It is helpful to visualize the dictionary as a table, as in the following image. The first column represents the keys, the second column represents the values.\n",
      "metadata": {}
    },
    {
      "cell_type": "markdown",
      "source": "<img src=\"https://cf-courses-data.s3.us.cloud-object-storage.appdomain.cloud/IBMDeveloperSkillsNetwork-PY0101EN-SkillsNetwork/labs/Module%202/images/DictsStructure.png\" width=\"650\">\n",
      "metadata": {}
    },
    {
      "cell_type": "markdown",
      "source": "<a id=\"keys\"></a>\n## Keys\n",
      "metadata": {}
    },
    {
      "cell_type": "markdown",
      "source": "You can retrieve the values based on the names:\n",
      "metadata": {}
    },
    {
      "cell_type": "code",
      "source": "# Get value by keys\n\nrelease_year_dict['Thriller'] ",
      "metadata": {
        "trusted": true
      },
      "execution_count": 6,
      "outputs": [
        {
          "execution_count": 6,
          "output_type": "execute_result",
          "data": {
            "text/plain": "'1982'"
          },
          "metadata": {}
        }
      ]
    },
    {
      "cell_type": "markdown",
      "source": "This corresponds to:\n",
      "metadata": {}
    },
    {
      "cell_type": "markdown",
      "source": "<img src=\"https://cf-courses-data.s3.us.cloud-object-storage.appdomain.cloud/IBMDeveloperSkillsNetwork-PY0101EN-SkillsNetwork/labs/Module%202/images/DictsKeyOne.png\" width=\"500\">\n",
      "metadata": {}
    },
    {
      "cell_type": "markdown",
      "source": "Similarly for <b>The Bodyguard</b>\n",
      "metadata": {}
    },
    {
      "cell_type": "code",
      "source": "# Get value by key\n\nrelease_year_dict['The Bodyguard'] ",
      "metadata": {
        "trusted": true
      },
      "execution_count": 7,
      "outputs": [
        {
          "execution_count": 7,
          "output_type": "execute_result",
          "data": {
            "text/plain": "'1992'"
          },
          "metadata": {}
        }
      ]
    },
    {
      "cell_type": "markdown",
      "source": "<img src=\"https://cf-courses-data.s3.us.cloud-object-storage.appdomain.cloud/IBMDeveloperSkillsNetwork-PY0101EN-SkillsNetwork/labs/Module%202/images/DictsKeyTwo.png\" width=\"500\">\n",
      "metadata": {}
    },
    {
      "cell_type": "markdown",
      "source": "Now let us retrieve the keys of the dictionary using the method <code>keys()</code>:\n",
      "metadata": {}
    },
    {
      "cell_type": "code",
      "source": "# Get all the keys in dictionary\n\nrelease_year_dict.keys() ",
      "metadata": {
        "trusted": true
      },
      "execution_count": 8,
      "outputs": [
        {
          "execution_count": 8,
          "output_type": "execute_result",
          "data": {
            "text/plain": "dict_keys(['Thriller', 'Back in Black', 'The Dark Side of the Moon', 'The Bodyguard', 'Bat Out of Hell', 'Their Greatest Hits (1971-1975)', 'Saturday Night Fever', 'Rumours'])"
          },
          "metadata": {}
        }
      ]
    },
    {
      "cell_type": "markdown",
      "source": "You can retrieve the values using the method  <code>values()</code>:\n",
      "metadata": {}
    },
    {
      "cell_type": "code",
      "source": "# Get all the values in dictionary\n\nrelease_year_dict.values() ",
      "metadata": {
        "trusted": true
      },
      "execution_count": 9,
      "outputs": [
        {
          "execution_count": 9,
          "output_type": "execute_result",
          "data": {
            "text/plain": "dict_values(['1982', '1980', '1973', '1992', '1977', '1976', '1977', '1977'])"
          },
          "metadata": {}
        }
      ]
    },
    {
      "cell_type": "markdown",
      "source": "We can add an entry:\n",
      "metadata": {}
    },
    {
      "cell_type": "code",
      "source": "# Append value with key into dictionary\n\nrelease_year_dict['Graduation'] = '2007'\nrelease_year_dict",
      "metadata": {
        "trusted": true
      },
      "execution_count": 10,
      "outputs": [
        {
          "execution_count": 10,
          "output_type": "execute_result",
          "data": {
            "text/plain": "{'Thriller': '1982',\n 'Back in Black': '1980',\n 'The Dark Side of the Moon': '1973',\n 'The Bodyguard': '1992',\n 'Bat Out of Hell': '1977',\n 'Their Greatest Hits (1971-1975)': '1976',\n 'Saturday Night Fever': '1977',\n 'Rumours': '1977',\n 'Graduation': '2007'}"
          },
          "metadata": {}
        }
      ]
    },
    {
      "cell_type": "markdown",
      "source": "We can delete an entry:\n",
      "metadata": {}
    },
    {
      "cell_type": "code",
      "source": "# Delete entries by key\n\ndel(release_year_dict['Thriller'])\ndel(release_year_dict['Graduation'])\nrelease_year_dict",
      "metadata": {
        "trusted": true
      },
      "execution_count": 11,
      "outputs": [
        {
          "execution_count": 11,
          "output_type": "execute_result",
          "data": {
            "text/plain": "{'Back in Black': '1980',\n 'The Dark Side of the Moon': '1973',\n 'The Bodyguard': '1992',\n 'Bat Out of Hell': '1977',\n 'Their Greatest Hits (1971-1975)': '1976',\n 'Saturday Night Fever': '1977',\n 'Rumours': '1977'}"
          },
          "metadata": {}
        }
      ]
    },
    {
      "cell_type": "markdown",
      "source": "We can verify if an element is in the dictionary:\n",
      "metadata": {}
    },
    {
      "cell_type": "code",
      "source": "# Verify the key is in the dictionary\n\n'The Bodyguard' in release_year_dict",
      "metadata": {
        "trusted": true
      },
      "execution_count": 12,
      "outputs": [
        {
          "execution_count": 12,
          "output_type": "execute_result",
          "data": {
            "text/plain": "True"
          },
          "metadata": {}
        }
      ]
    },
    {
      "cell_type": "markdown",
      "source": "<hr>\n",
      "metadata": {}
    },
    {
      "cell_type": "markdown",
      "source": "<a id=\"quiz\"></a>\n## Quiz on Dictionaries\n",
      "metadata": {}
    },
    {
      "cell_type": "markdown",
      "source": "<b>You will need this dictionary for the next two questions:</b>\n",
      "metadata": {}
    },
    {
      "cell_type": "code",
      "source": "# Question sample dictionary\n\nsoundtrack_dic = {\"The Bodyguard\":\"1992\", \"Saturday Night Fever\":\"1977\"}\nsoundtrack_dic ",
      "metadata": {
        "trusted": true
      },
      "execution_count": 13,
      "outputs": [
        {
          "execution_count": 13,
          "output_type": "execute_result",
          "data": {
            "text/plain": "{'The Bodyguard': '1992', 'Saturday Night Fever': '1977'}"
          },
          "metadata": {}
        }
      ]
    },
    {
      "cell_type": "markdown",
      "source": "a) In the dictionary <code>soundtrack_dic</code> what are the keys ?\n",
      "metadata": {}
    },
    {
      "cell_type": "code",
      "source": "# Write your code below and press Shift+Enter to execute\nsoundtrack_dic.keys()",
      "metadata": {
        "trusted": true
      },
      "execution_count": 14,
      "outputs": [
        {
          "execution_count": 14,
          "output_type": "execute_result",
          "data": {
            "text/plain": "dict_keys(['The Bodyguard', 'Saturday Night Fever'])"
          },
          "metadata": {}
        }
      ]
    },
    {
      "cell_type": "markdown",
      "source": "<details><summary>Click here for the solution</summary>\n\n```python\nsoundtrack_dic.keys() # The Keys \"The Bodyguard\" and \"Saturday Night Fever\" \n\n```\n\n</details>\n",
      "metadata": {}
    },
    {
      "cell_type": "markdown",
      "source": "b) In the dictionary <code>soundtrack_dic</code> what are the values ?\n",
      "metadata": {}
    },
    {
      "cell_type": "code",
      "source": "# Write your code below and press Shift+Enter to execute\nsoundtrack_dic.values()",
      "metadata": {
        "trusted": true
      },
      "execution_count": 15,
      "outputs": [
        {
          "execution_count": 15,
          "output_type": "execute_result",
          "data": {
            "text/plain": "dict_values(['1992', '1977'])"
          },
          "metadata": {}
        }
      ]
    },
    {
      "cell_type": "markdown",
      "source": "<details><summary>Click here for the solution</summary>\n\n```python\nsoundtrack_dic.values() # The values are \"1992\" and \"1977\"\n\n```\n\n</details>\n",
      "metadata": {}
    },
    {
      "cell_type": "markdown",
      "source": "<hr>\n",
      "metadata": {}
    },
    {
      "cell_type": "markdown",
      "source": "<b>You will need this dictionary for the following questions:</b>\n",
      "metadata": {}
    },
    {
      "cell_type": "markdown",
      "source": "The Albums <b>Back in Black</b>, <b>The Bodyguard</b> and <b>Thriller</b> have the following music recording sales in millions 50, 50 and 65 respectively:\n",
      "metadata": {}
    },
    {
      "cell_type": "markdown",
      "source": "a) Create a dictionary <code>album_sales_dict</code> where the keys are the album name and the sales in millions are the values.\n",
      "metadata": {}
    },
    {
      "cell_type": "code",
      "source": "# Write your code below and press Shift+Enter to execute\nalbum_sales_dict = {\"Back in Black\":50, \"The Bodyguard\":50, \"Thriller\":60}\nalbum_sales_dict",
      "metadata": {
        "trusted": true
      },
      "execution_count": 16,
      "outputs": [
        {
          "execution_count": 16,
          "output_type": "execute_result",
          "data": {
            "text/plain": "{'Back in Black': 50, 'The Bodyguard': 50, 'Thriller': 60}"
          },
          "metadata": {}
        }
      ]
    },
    {
      "cell_type": "markdown",
      "source": "<details><summary>Click here for the solution</summary>\n\n```python\nalbum_sales_dict = {\"The Bodyguard\":50, \"Back in Black\":50, \"Thriller\":65}\n\n```\n\n</details>\n",
      "metadata": {}
    },
    {
      "cell_type": "markdown",
      "source": "b) Use the dictionary to find the total sales of <b>Thriller</b>:\n",
      "metadata": {}
    },
    {
      "cell_type": "code",
      "source": "# Write your code below and press Shift+Enter to execute\nalbum_sales_dict['Thriller']",
      "metadata": {
        "trusted": true
      },
      "execution_count": 19,
      "outputs": [
        {
          "execution_count": 19,
          "output_type": "execute_result",
          "data": {
            "text/plain": "60"
          },
          "metadata": {}
        }
      ]
    },
    {
      "cell_type": "markdown",
      "source": "<details><summary>Click here for the solution</summary>\n\n```python\nalbum_sales_dict[\"Thriller\"]\n\n```\n\n</details>\n",
      "metadata": {}
    },
    {
      "cell_type": "markdown",
      "source": "c) Find the names of the albums from the dictionary using the method <code>keys()</code>:\n",
      "metadata": {}
    },
    {
      "cell_type": "code",
      "source": "# Write your code below and press Shift+Enter to execute\nalbum_sales_dict.keys()",
      "metadata": {
        "trusted": true
      },
      "execution_count": 20,
      "outputs": [
        {
          "execution_count": 20,
          "output_type": "execute_result",
          "data": {
            "text/plain": "dict_keys(['Back in Black', 'The Bodyguard', 'Thriller'])"
          },
          "metadata": {}
        }
      ]
    },
    {
      "cell_type": "markdown",
      "source": "<details><summary>Click here for the solution</summary>\n\n```python\nalbum_sales_dict.keys()\n\n```\n\n</details>\n",
      "metadata": {}
    },
    {
      "cell_type": "markdown",
      "source": "d) Find the values of the recording sales from the dictionary using the method <code>values</code>:\n",
      "metadata": {}
    },
    {
      "cell_type": "code",
      "source": "# Write your code below and press Shift+Enter to execute\nalbum_sales_dict.values()",
      "metadata": {
        "trusted": true
      },
      "execution_count": 21,
      "outputs": [
        {
          "execution_count": 21,
          "output_type": "execute_result",
          "data": {
            "text/plain": "dict_values([50, 50, 60])"
          },
          "metadata": {}
        }
      ]
    },
    {
      "cell_type": "markdown",
      "source": "<details><summary>Click here for the solution</summary>\n\n```python\nalbum_sales_dict.values()\n\n```\n\n</details>\n",
      "metadata": {}
    },
    {
      "cell_type": "markdown",
      "source": "<a id=\"Scenario\"></a>\n## Scenario:Inventory Store\n    \n",
      "metadata": {}
    },
    {
      "cell_type": "markdown",
      "source": "The inventory store scenario project utilizes a dictionary-based approach to develop a robust system for managing and tracking inventory in a retail store.\n<br>\n**Note:- You will be working with two product details.**\n",
      "metadata": {}
    },
    {
      "cell_type": "markdown",
      "source": "## Task-1 Create an empty dictionary \n",
      "metadata": {}
    },
    {
      "cell_type": "markdown",
      "source": "\nFirst you need to create an empty dictionary, where you will be storing the product details.\n",
      "metadata": {}
    },
    {
      "cell_type": "code",
      "source": "#Type your code here\ninvetory={}",
      "metadata": {
        "trusted": true
      },
      "execution_count": 22,
      "outputs": []
    },
    {
      "cell_type": "markdown",
      "source": "<details> <summary>Click here for the solution</summary>\n\n```python\n\ninventory ={}\n\n```\n\n</details>\n",
      "metadata": {}
    },
    {
      "cell_type": "markdown",
      "source": "## Task-2 Store the first product details in variable\n* Product Name= Mobile phone\n* Product Quantity= 5\n* Product price= 20000\n* Product Release Year= 2020\n",
      "metadata": {}
    },
    {
      "cell_type": "code",
      "source": "#type your code here\nProductNo1 = \"Mobile Phone\"\nProductNo1_quantity = 5\nProductNo1_price = 20000\nProductNo1_releaseYear= 2020",
      "metadata": {
        "trusted": true
      },
      "execution_count": 25,
      "outputs": []
    },
    {
      "cell_type": "markdown",
      "source": "<details> <summary>Click here for the solution</summary>\n\n```python\nProductNo1 = \"Mobile Phone\"\nProductNo1_quantity = 5\nProductNo1_price = 20000\nProductNo1_releaseYear= 2020\n```\n\n</details>\n",
      "metadata": {}
    },
    {
      "cell_type": "markdown",
      "source": "## Task-3 Add the details in inventory\n",
      "metadata": {}
    },
    {
      "cell_type": "code",
      "source": "#Type your code here\ninventory[\"ProductNo1\"]= ProductNo1\ninventory[\"ProductNo1_quantity\"]= ProductNo1_quantity\ninventory[\"ProductNo1_price\"]= ProductNo1_price\ninventory[\"ProductNo1_releaseYear\"]=ProductNo1_releaseYear",
      "metadata": {
        "trusted": true
      },
      "execution_count": 26,
      "outputs": []
    },
    {
      "cell_type": "markdown",
      "source": "<details> <summary>Click here for the solution</summary>\n\n```python\n\ninventory[\"ProductNo1\"]= ProductNo1\ninventory[\"ProductNo1_quantity\"]= ProductNo1_quantity\ninventory[\"ProductNo1_price\"]= ProductNo1_price\ninventory[\"ProductNo1_releaseYear\"]=ProductNo1_releaseYear\n\n```\n\n</details>\n",
      "metadata": {}
    },
    {
      "cell_type": "markdown",
      "source": "## Task-4 Store the second product details in a variable.\n* Product Name= \"Laptop\"\n* Product Quantity= 10\n* Product price = 50000\n* Product Release Year= 2023\n",
      "metadata": {}
    },
    {
      "cell_type": "code",
      "source": "#type your code here\nProductNo2 = \"Laptop\"\nProductNo2_quantity = 10\nProductNo2_price = 50000\nProductNo2_releaseYear= 2023",
      "metadata": {
        "trusted": true
      },
      "execution_count": 27,
      "outputs": []
    },
    {
      "cell_type": "markdown",
      "source": "<details> <summary>Click here for the solution</summary>\n\n```python\n\nProductNo2 = \"Laptop\"\nProductNo2_quantity = 10\nProductNo2_price = 50000\nProductNo2_releaseYear= 2023\n\n```\n\n</details>\n",
      "metadata": {}
    },
    {
      "cell_type": "markdown",
      "source": "## Task-5 Add the item detail into the inventory.\n",
      "metadata": {}
    },
    {
      "cell_type": "code",
      "source": "#type your code here\ninventory[\"ProductNo2\"]= ProductNo2\ninventory[\"ProductNo2_quantity\"]= ProductNo2_quantity\ninventory[\"ProductNo2_price\"]= ProductNo2_price\ninventory[\"ProductNo2_releaseYear\"]=ProductNo2_releaseYear",
      "metadata": {
        "trusted": true
      },
      "execution_count": 28,
      "outputs": []
    },
    {
      "cell_type": "markdown",
      "source": "<details> <summary>Click here for the solution</summary>\n\n```python\n\ninventory[\"ProductNo2\"]= ProductNo2\ninventory[\"ProductNo2_quantity\"]= ProductNo2_quantity\ninventory[\"ProductNo2_price\"]= ProductNo2_price\ninventory[\"ProductNo2_releaseYear\"]=ProductNo2_releaseYear\n\n```\n\n</details>\n",
      "metadata": {}
    },
    {
      "cell_type": "markdown",
      "source": "## Task-6 Display the Products present in the inventory\n",
      "metadata": {}
    },
    {
      "cell_type": "markdown",
      "source": "Use print statement for displaying the products\n",
      "metadata": {}
    },
    {
      "cell_type": "code",
      "source": "#type your code here\ninventory",
      "metadata": {
        "trusted": true
      },
      "execution_count": 29,
      "outputs": [
        {
          "execution_count": 29,
          "output_type": "execute_result",
          "data": {
            "text/plain": "{'Product Name': 'Mobile phone',\n 'Product Quantity': 5,\n 'Product price': 20000,\n 'Product Release Year': 2020,\n 'ProductNo1': 'Mobile Phone',\n 'ProductNo1_quantity': 5,\n 'ProductNo1_price': 20000,\n 'ProductNo1_releaseYear': 2020,\n 'ProductNo2': 'Laptop',\n 'ProductNo2_quantity': 10,\n 'ProductNo2_price': 50000,\n 'ProductNo2_releaseYear': 2023}"
          },
          "metadata": {}
        }
      ]
    },
    {
      "cell_type": "markdown",
      "source": "<details> <summary>Click here for the solution</summary>\n\n```python\n\nprint(inventory)\n\n```\n\n</details>\n",
      "metadata": {}
    },
    {
      "cell_type": "markdown",
      "source": "## Task-7 Check if `ProductNo1_releaseYear` and `ProductNo2_releaseYear` is in the inventory\n",
      "metadata": {}
    },
    {
      "cell_type": "code",
      "source": "#Type your code here\n\"ProductNo1_releaseYear\" in inventory\n\"ProductNo2_releaseYear\" in inventory",
      "metadata": {
        "trusted": true
      },
      "execution_count": 30,
      "outputs": [
        {
          "execution_count": 30,
          "output_type": "execute_result",
          "data": {
            "text/plain": "True"
          },
          "metadata": {}
        }
      ]
    },
    {
      "cell_type": "markdown",
      "source": "<details> <summary>Click here for the solution</summary>\n\n```python\n\n\"ProductNo1_releaseYear\" in inventory\n\"ProductNo2_releaseYear\" in inventory\n\n```\n\n</details>\n",
      "metadata": {}
    },
    {
      "cell_type": "markdown",
      "source": "**As in inventory `Release year` is not required, let's delete it.**\n",
      "metadata": {}
    },
    {
      "cell_type": "markdown",
      "source": "## Task-8 Delete release year of both the products from the inventory\n",
      "metadata": {}
    },
    {
      "cell_type": "code",
      "source": "#Type your code here\ndel(inventory[\"ProductNo1_releaseYear\"])\ndel(inventory[\"ProductNo2_releaseYear\"])",
      "metadata": {
        "trusted": true
      },
      "execution_count": 33,
      "outputs": [
        {
          "ename": "<class 'KeyError'>",
          "evalue": "'ProductNo1_releaseYear'",
          "traceback": [
            "\u001b[0;31m---------------------------------------------------------------------------\u001b[0m",
            "\u001b[0;31mKeyError\u001b[0m                                  Traceback (most recent call last)",
            "Cell \u001b[0;32mIn[33], line 2\u001b[0m\n\u001b[1;32m      1\u001b[0m \u001b[38;5;66;03m#Type your code here\u001b[39;00m\n\u001b[0;32m----> 2\u001b[0m \u001b[38;5;28;01mdel\u001b[39;00m(\u001b[43minventory\u001b[49m\u001b[43m[\u001b[49m\u001b[38;5;124;43m\"\u001b[39;49m\u001b[38;5;124;43mProductNo1_releaseYear\u001b[39;49m\u001b[38;5;124;43m\"\u001b[39;49m\u001b[43m]\u001b[49m)\n\u001b[1;32m      3\u001b[0m \u001b[38;5;28;01mdel\u001b[39;00m(inventory[\u001b[38;5;124m\"\u001b[39m\u001b[38;5;124mProductNo2_releaseYear\u001b[39m\u001b[38;5;124m\"\u001b[39m])\n",
            "\u001b[0;31mKeyError\u001b[0m: 'ProductNo1_releaseYear'"
          ],
          "output_type": "error"
        }
      ]
    },
    {
      "cell_type": "markdown",
      "source": "\n<details> <summary>Click here for the solution</summary>\n\n```python\n\ndel(inventory[\"ProductNo1_releaseYear\"])\ndel(inventory[\"ProductNo2_releaseYear\"])\n\n```\n\n</details>\n",
      "metadata": {}
    },
    {
      "cell_type": "markdown",
      "source": "<hr>\n<h2>The last exercise!</h2>\n<p>Congratulations, you have completed your first lesson and hands-on lab in Python. \n<hr>\n",
      "metadata": {}
    },
    {
      "cell_type": "markdown",
      "source": "## Author\n\n<a href=\"https://www.linkedin.com/in/joseph-s-50398b136/?utm_medium=Exinfluencer&utm_source=Exinfluencer&utm_content=000026UJ&utm_term=10006555&utm_id=NA-SkillsNetwork-Channel-SkillsNetworkCoursesIBMDeveloperSkillsNetworkPY0101ENSkillsNetwork19487395-2021-01-01\">Joseph Santarcangelo</a>\n\n## Other contributors\n\n<a href=\"https://www.linkedin.com/in/jiahui-mavis-zhou-a4537814a?utm_medium=Exinfluencer&utm_source=Exinfluencer&utm_content=000026UJ&utm_term=10006555&utm_id=NA-SkillsNetwork-Channel-SkillsNetworkCoursesIBMDeveloperSkillsNetworkPY0101ENSkillsNetwork19487395-2021-01-01\">Mavis Zhou</a>\n\n## Change Log\n\n| Date (YYYY-MM-DD) | Version | Changed By    | Change Description                                                  |\n| ----------------- | ------- | ------------- | ------------------------------------------------------------------- |\n| 2023-05-11        |  2.3    | Akansha yadav | Updated lab with scenario                                           |\n|  2022-01-10        | 2.2     | Malika Singla | Removed the readme for GitShare                                     |\n| 2020-09-09        | 2.1     | Malika Singla | Updated the variable soundtrack_dict to soundtrack_dic in Questions |\n| 2020-08-26        | 2.0     | Lavanya       | Moved lab to course repo in GitLab                                  |\n|                   |         |               |                                                                     |\n|                   |         |               |                                                                     |\n\n## <h3 align=\"center\"> © IBM Corporation 2020. All rights reserved. <h3/>\n",
      "metadata": {}
    },
    {
      "cell_type": "code",
      "source": "",
      "metadata": {},
      "execution_count": null,
      "outputs": []
    }
  ]
}