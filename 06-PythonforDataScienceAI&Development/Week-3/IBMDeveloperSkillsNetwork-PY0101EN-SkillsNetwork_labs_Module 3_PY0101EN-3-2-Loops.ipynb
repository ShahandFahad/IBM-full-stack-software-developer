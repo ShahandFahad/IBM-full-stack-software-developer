{
  "metadata": {
    "kernelspec": {
      "name": "python",
      "display_name": "Python (Pyodide)",
      "language": "python"
    },
    "language_info": {
      "codemirror_mode": {
        "name": "python",
        "version": 3
      },
      "file_extension": ".py",
      "mimetype": "text/x-python",
      "name": "python",
      "nbconvert_exporter": "python",
      "pygments_lexer": "ipython3",
      "version": "3.8"
    }
  },
  "nbformat_minor": 4,
  "nbformat": 4,
  "cells": [
    {
      "cell_type": "markdown",
      "source": "<p style=\"text-align:center\">\n    <a href=\"https://skills.network/?utm_medium=Exinfluencer&utm_source=Exinfluencer&utm_content=000026UJ&utm_term=10006555&utm_id=NA-SkillsNetwork-Channel-SkillsNetworkCoursesIBMDeveloperSkillsNetworkPY0101ENSkillsNetwork1005-2023-01-01\">\n    <img src=\"https://cf-courses-data.s3.us.cloud-object-storage.appdomain.cloud/assets/logos/SN_web_lightmode.png\" width=\"200\" alt=\"Skills Network Logo\"  />\n    </a>\n</p>\n\n\n# Loops in Python\n\n\nEstimated time needed: **20** minutes\n    \n\n## Objectives\n\nAfter completing this lab you will be able to:\n\n* work with the loop statements in Python, including for-loop and while-loop.\n",
      "metadata": {}
    },
    {
      "cell_type": "markdown",
      "source": "<h1>Loops in Python</h1>\n",
      "metadata": {}
    },
    {
      "cell_type": "markdown",
      "source": "<p><strong>Welcome!</strong> This notebook will teach you about the loops in the Python Programming Language. By the end of this lab, you'll know how to use the loop statements in Python, including for loop, and while loop.</p>\n",
      "metadata": {}
    },
    {
      "cell_type": "markdown",
      "source": "<h2>Table of Contents</h2>\n<div class=\"alert alert-block alert-info\" style=\"margin-top: 20px\">\n    <ul>\n        <li>\n            <a href=\"#loop\">Loops</a>\n            <ul>\n                <li><a href=\"range\">Range</a></li>\n                <li><a href=\"for\">What is <code>for</code> loop?</a></li>\n                <li><a href=\"while\">What is <code>while</code> loop?</a></li>\n            </ul>\n        </li>\n        <li>\n            <a href=\"#quiz\">Quiz on Loops</a>\n        </li>\n    </ul>\n\n</div>\n\n<hr>\n",
      "metadata": {}
    },
    {
      "cell_type": "markdown",
      "source": "<h2 id=\"loop\">Loops</h2>\n",
      "metadata": {}
    },
    {
      "cell_type": "markdown",
      "source": "<h3 id=\"range\">Range</h3>\n",
      "metadata": {}
    },
    {
      "cell_type": "markdown",
      "source": "Sometimes, you might want to repeat a given operation many times. Repeated executions like this are performed by <b>loops</b>. We will look at two types of loops, <code>for</code> loops and <code>while</code> loops.\n\nBefore we discuss loops lets discuss the <code>range</code> object. It is helpful to think of the range object as an ordered list. For now, let's look at the simplest case. If we would like to generate an object that contains elements ordered from 0 to 2 we simply use the following command:\n",
      "metadata": {}
    },
    {
      "cell_type": "code",
      "source": "# Use the range\n\nrange(3)",
      "metadata": {
        "trusted": true
      },
      "execution_count": 1,
      "outputs": [
        {
          "execution_count": 1,
          "output_type": "execute_result",
          "data": {
            "text/plain": "range(0, 3)"
          },
          "metadata": {}
        }
      ]
    },
    {
      "cell_type": "markdown",
      "source": "<img src=\"https://cf-courses-data.s3.us.cloud-object-storage.appdomain.cloud/IBMDeveloperSkillsNetwork-PY0101EN-SkillsNetwork/labs/Module%203/images/range.PNG\" width=\"300\">\n",
      "metadata": {}
    },
    {
      "cell_type": "markdown",
      "source": "**_NOTE: While in Python 2.x it returned a list as seen in video lessons, in 3.x it returns a range object._**\n",
      "metadata": {}
    },
    {
      "cell_type": "markdown",
      "source": "<h3 id=\"for\">What is <code>for</code> loop?</h3>\n",
      "metadata": {}
    },
    {
      "cell_type": "markdown",
      "source": "The <code>for</code> loop enables you to execute a code block multiple times. For example, you would use this if you would like to print out every element in a list.    \nLet's try to use a <code>for</code> loop to print all the years presented in the list <code>dates</code>:\n",
      "metadata": {}
    },
    {
      "cell_type": "markdown",
      "source": "This can be done as follows:\n",
      "metadata": {}
    },
    {
      "cell_type": "code",
      "source": "# For loop example\n\ndates = [1982,1980,1973]\nN = len(dates)\n\nfor i in range(N):\n    print(dates[i])     ",
      "metadata": {
        "trusted": true
      },
      "execution_count": 2,
      "outputs": [
        {
          "name": "stdout",
          "text": "1982\n1980\n1973\n",
          "output_type": "stream"
        }
      ]
    },
    {
      "cell_type": "markdown",
      "source": "The code in the indent is executed <code>N</code> times, each time the value of <code>i</code> is increased by 1 for every execution. The statement executed is to <code>print</code> out the value in the list at index <code>i</code> as shown here:\n",
      "metadata": {}
    },
    {
      "cell_type": "markdown",
      "source": "<img src=\"https://cf-courses-data.s3.us.cloud-object-storage.appdomain.cloud/IBMDeveloperSkillsNetwork-PY0101EN-SkillsNetwork/labs/Module%203/images/LoopsForRange.gif\" width=\"800\">\n",
      "metadata": {}
    },
    {
      "cell_type": "markdown",
      "source": "In this example we can print out a sequence of numbers from 0 to 7:\n",
      "metadata": {}
    },
    {
      "cell_type": "code",
      "source": "# Example of for loop\n\nfor i in range(0, 8):\n    print(i)",
      "metadata": {
        "trusted": true
      },
      "execution_count": 3,
      "outputs": [
        {
          "name": "stdout",
          "text": "0\n1\n2\n3\n4\n5\n6\n7\n",
          "output_type": "stream"
        }
      ]
    },
    {
      "cell_type": "markdown",
      "source": "In Python we can directly access the elements in the list as follows: \n",
      "metadata": {}
    },
    {
      "cell_type": "code",
      "source": "# Exmaple of for loop, loop through list\n\nfor year in dates:  \n    print(year)   ",
      "metadata": {
        "trusted": true
      },
      "execution_count": 4,
      "outputs": [
        {
          "name": "stdout",
          "text": "1982\n1980\n1973\n",
          "output_type": "stream"
        }
      ]
    },
    {
      "cell_type": "markdown",
      "source": "For each iteration, the value of the variable <code>year</code> behaves like the value of <code>dates[i]</code> in the  first example:\n",
      "metadata": {}
    },
    {
      "cell_type": "markdown",
      "source": "<img src=\"https://cf-courses-data.s3.us.cloud-object-storage.appdomain.cloud/IBMDeveloperSkillsNetwork-PY0101EN-SkillsNetwork/labs/Module%203/images/LoopsForList.gif\" width=\"800\">\n",
      "metadata": {}
    },
    {
      "cell_type": "markdown",
      "source": "We can change the elements in a list:\n",
      "metadata": {}
    },
    {
      "cell_type": "code",
      "source": "# Use for loop to change the elements in list\n\nsquares = ['red', 'yellow', 'green', 'purple', 'blue']\n\nfor i in range(0, 5):\n    print(\"Before square \", i, 'is',  squares[i])\n    squares[i] = 'white'\n    print(\"After square \", i, 'is',  squares[i])",
      "metadata": {
        "trusted": true
      },
      "execution_count": 5,
      "outputs": [
        {
          "name": "stdout",
          "text": "Before square  0 is red\nAfter square  0 is white\nBefore square  1 is yellow\nAfter square  1 is white\nBefore square  2 is green\nAfter square  2 is white\nBefore square  3 is purple\nAfter square  3 is white\nBefore square  4 is blue\nAfter square  4 is white\n",
          "output_type": "stream"
        }
      ]
    },
    {
      "cell_type": "markdown",
      "source": " We can access the index and the elements of a list as follows: \n",
      "metadata": {}
    },
    {
      "cell_type": "code",
      "source": "# Loop through the list and iterate on both index and element value\n\nsquares=['red', 'yellow', 'green', 'purple', 'blue']\n\nfor i, square in enumerate(squares):\n    print(i, square)",
      "metadata": {
        "trusted": true
      },
      "execution_count": 6,
      "outputs": [
        {
          "name": "stdout",
          "text": "0 red\n1 yellow\n2 green\n3 purple\n4 blue\n",
          "output_type": "stream"
        }
      ]
    },
    {
      "cell_type": "markdown",
      "source": "<h3 id=\"while\">What is <code>while</code> loop?</h3>\n",
      "metadata": {}
    },
    {
      "cell_type": "markdown",
      "source": "As you can see, the <code>for</code> loop is used for a controlled flow of repetition. However, what if we don't know when we want to stop the loop? What if we want to keep executing a code block until a certain condition is met? The <code>while</code> loop exists as a tool for repeated execution based on a condition. The code block will keep being executed until the given logical condition returns a **False** boolean value.\n",
      "metadata": {}
    },
    {
      "cell_type": "markdown",
      "source": "#### Here's how a while loop works:\n\n1. First, you specify a condition that the loop will check before each iteration (repetition) of the code block.\n2. If the condition is initially true, the code block is executed.\n3. After executing the code block, the condition is checked again.\n4. If the condition is still true, the code block is executed again.\n5. Steps 3 and 4 repeat until the condition becomes false.\n6. Once the condition becomes false, the loop stops, and the program continues with the next line of code after the loop.\n",
      "metadata": {}
    },
    {
      "cell_type": "markdown",
      "source": "**Here's an example of a while loop that prints numbers from 1 to 5:**\n",
      "metadata": {}
    },
    {
      "cell_type": "code",
      "source": "count = 1\nwhile count <= 5:\n    print(count)\n    count += 1",
      "metadata": {
        "trusted": true
      },
      "execution_count": 7,
      "outputs": [
        {
          "name": "stdout",
          "text": "1\n2\n3\n4\n5\n",
          "output_type": "stream"
        }
      ]
    },
    {
      "cell_type": "markdown",
      "source": "In this example, the condition **count <= 5** is checked before each iteration. As long as count is less than or equal to 5, the code block inside the loop is executed. After each iteration, the value of count is incremented by 1 using count += 1. Once count reaches 6, the condition becomes false, and the loop stops.\n",
      "metadata": {}
    },
    {
      "cell_type": "markdown",
      "source": "Let’s say we would like to iterate through list <code>dates</code> and stop at the year 1973, then print out the number of iterations. This can be done with the following block of code:\n",
      "metadata": {}
    },
    {
      "cell_type": "code",
      "source": "# While Loop Example\n\ndates = [1982, 1980, 1973, 2000]\n\ni = 0\nyear = dates[0]\n\nwhile(year != 1973):    \n    print(year)\n    i = i + 1\n    year = dates[i]\n    \n\nprint(\"It took \", i ,\"repetitions to get out of loop.\")",
      "metadata": {
        "trusted": true
      },
      "execution_count": 8,
      "outputs": [
        {
          "name": "stdout",
          "text": "1982\n1980\nIt took  2 repetitions to get out of loop.\n",
          "output_type": "stream"
        }
      ]
    },
    {
      "cell_type": "markdown",
      "source": "A while loop iterates merely until the condition in the argument is not  met, as shown in the following figure:\n",
      "metadata": {}
    },
    {
      "cell_type": "markdown",
      "source": "<img src=\"https://cf-courses-data.s3.us.cloud-object-storage.appdomain.cloud/IBMDeveloperSkillsNetwork-PY0101EN-SkillsNetwork/labs/Module%203/images/LoopsWhile.gif\" width=\"650\">\n",
      "metadata": {}
    },
    {
      "cell_type": "markdown",
      "source": "\n**The main difference between a while loop and a for loop in Python is how they control the flow of execution and handle iterations.**\n",
      "metadata": {}
    },
    {
      "cell_type": "markdown",
      "source": "### Key point of While Loop:\n\n1. A while loop repeatedly executes a block of code as long as a given condition is true.\n2. It does not have a fixed number of iterations but continues executing until the condition becomes false.\n3. The condition is checked before each iteration, and if it's false initially, the code block is skipped entirely.\n4. The condition is typically based on a variable or expression that can change during the execution of the loop.\n5. It provides more flexibility in terms of controlling the loop's execution based on dynamic conditions.\n",
      "metadata": {}
    },
    {
      "cell_type": "markdown",
      "source": "### Key point of For Loop:\n\n1. A for loop iterates over a sequence (such as a list, string, or range) or any object that supports iteration.\n2. It has a predefined number of iterations based on the length of the sequence or the number of items to iterate over.\n3. It automatically handles the iteration and does not require maintaining a separate variable for tracking the iteration count.\n4. It simplifies the code by encapsulating the iteration logic within the loop itself.\n5. It is commonly used when you know the exact number of iterations or need to iterate over each item in a collection.\n",
      "metadata": {}
    },
    {
      "cell_type": "markdown",
      "source": "<hr>\n",
      "metadata": {}
    },
    {
      "cell_type": "markdown",
      "source": "<h2 id=\"quiz\">Practise Exercises on Loops</h2>\n",
      "metadata": {}
    },
    {
      "cell_type": "markdown",
      "source": "Write a <code>for</code> loop the prints out all the element between <b>-5</b> and <b>5</b> using the range function.\n",
      "metadata": {}
    },
    {
      "cell_type": "code",
      "source": "# Write your code below and press Shift+Enter to execute\nfor i in range(-5, 5):\n    print(i)",
      "metadata": {
        "trusted": true
      },
      "execution_count": 9,
      "outputs": [
        {
          "name": "stdout",
          "text": "-5\n-4\n-3\n-2\n-1\n0\n1\n2\n3\n4\n",
          "output_type": "stream"
        }
      ]
    },
    {
      "cell_type": "markdown",
      "source": "<details><summary>Click here for the solution</summary>\n\n```python\nfor i in range(-4, 5):\n    print(i)\n    \n```\n\n</details>\n",
      "metadata": {}
    },
    {
      "cell_type": "markdown",
      "source": "Print the elements of the following list:\n<code>Genres=[ 'rock', 'R&B', 'Soundtrack', 'R&B', 'soul', 'pop']</code>\nMake sure you follow Python conventions.\n",
      "metadata": {}
    },
    {
      "cell_type": "code",
      "source": "# Write your code below and press Shift+Enter to execute\nGenres=[ 'rock', 'R&B', 'Soundtrack', 'R&B', 'soul', 'pop']\nfor genre in Genres:\n    print(genre)",
      "metadata": {
        "trusted": true
      },
      "execution_count": 10,
      "outputs": [
        {
          "name": "stdout",
          "text": "rock\nR&B\nSoundtrack\nR&B\nsoul\npop\n",
          "output_type": "stream"
        }
      ]
    },
    {
      "cell_type": "markdown",
      "source": "<details><summary>Click here for the solution</summary>\n\n```python\nGenres = ['rock', 'R&B', 'Soundtrack', 'R&B', 'soul', 'pop']\nfor Genre in Genres:\n    print(Genre)\n    \n```\n\n</details>\n",
      "metadata": {}
    },
    {
      "cell_type": "markdown",
      "source": "<hr>\n",
      "metadata": {}
    },
    {
      "cell_type": "markdown",
      "source": "Write a for loop that prints out the following list: <code>squares=['red', 'yellow', 'green', 'purple', 'blue']</code>\n",
      "metadata": {}
    },
    {
      "cell_type": "code",
      "source": "# Write your code below and press Shift+Enter to execute\nsquares=['red', 'yellow', 'green', 'purple', 'blue']\nfor square in squares:\n    print(square)",
      "metadata": {
        "trusted": true
      },
      "execution_count": 11,
      "outputs": [
        {
          "name": "stdout",
          "text": "red\nyellow\ngreen\npurple\nblue\n",
          "output_type": "stream"
        }
      ]
    },
    {
      "cell_type": "markdown",
      "source": "<details><summary>Click here for the solution</summary>\n\n```python\nsquares=['red', 'yellow', 'green', 'purple', 'blue']\nfor square in squares:\n    print(square)\n    \n```\n\n</details>\n",
      "metadata": {}
    },
    {
      "cell_type": "markdown",
      "source": "<hr>\n",
      "metadata": {}
    },
    {
      "cell_type": "markdown",
      "source": "Write a while loop to display the values of the Rating of an album playlist stored in the list <code>PlayListRatings</code>. If the score is less than 6, exit the loop. The list <code>PlayListRatings</code> is given by: <code>PlayListRatings = [10, 9.5, 10, 8, 7.5, 5, 10, 10]</code>\n",
      "metadata": {}
    },
    {
      "cell_type": "code",
      "source": "# Write your code below and press Shift+Enter to execute\nPlayListRatings = [10, 9.5, 10, 8, 7.5, 5, 10, 10]\ni = 0\nrating = PlayListRatings[0]\nwhile(i < len(PlayListRatings) and rating >= 6):\n    print(rating)\n    i = i + 1 \n    rating = PlayListRatings[i] ",
      "metadata": {
        "trusted": true
      },
      "execution_count": 15,
      "outputs": [
        {
          "name": "stdout",
          "text": "10\n9.5\n10\n8\n7.5\n",
          "output_type": "stream"
        }
      ]
    },
    {
      "cell_type": "markdown",
      "source": "<details><summary>Click here for the solution</summary>\n\n```python\nPlayListRatings = [10, 9.5, 10, 8, 7.5, 5, 10, 10]\ni = 0\nrating = PlayListRatings[0]\nwhile(i < len(PlayListRatings) and rating >= 6):\n    print(rating)\n    i = i + 1 \n    rating = PlayListRatings[i]    \n```\n\n</details>\n",
      "metadata": {}
    },
    {
      "cell_type": "markdown",
      "source": "Write a while loop to copy the strings <code>'orange'</code> of the list <code>squares</code> to the list <code>new_squares</code>. Stop and exit the loop if the value on the list is not <code>'orange'</code>:\n",
      "metadata": {}
    },
    {
      "cell_type": "code",
      "source": "# Write your code below and press Shift+Enter to execute\n\nsquares = ['orange', 'orange', 'purple', 'blue ', 'orange']\nnew_squares = []\ni = 0\nwhile(i < len(squares) and squares[i] == 'orange'):\n    new_squares.append(squares[i])\n    i = i + 1\nprint (new_squares)",
      "metadata": {
        "trusted": true
      },
      "execution_count": 17,
      "outputs": [
        {
          "name": "stdout",
          "text": "['orange', 'orange']\n",
          "output_type": "stream"
        }
      ]
    },
    {
      "cell_type": "markdown",
      "source": "<details><summary>Click here for the solution</summary>\n\n```python\nsquares = ['orange', 'orange', 'purple', 'blue ', 'orange']\nnew_squares = []\ni = 0\nwhile(i < len(squares) and squares[i] == 'orange'):\n    new_squares.append(squares[i])\n    i = i + 1\nprint (new_squares)\n    \n```\n\n</details>\n \n",
      "metadata": {}
    },
    {
      "cell_type": "markdown",
      "source": "### Some real-life problems!\n",
      "metadata": {}
    },
    {
      "cell_type": "markdown",
      "source": "Your little brother has just learned multiplication tables in school. Today he has learned tables of 6 and 7. Help him memorise both the tables by printing them using <code>for</code> loop.\n",
      "metadata": {}
    },
    {
      "cell_type": "code",
      "source": "# Write your code here\nprint(\"Table of 6\")\nfor i in range(10):\n    print(\"6 * \", i, \": \", 6 * i)\n\nfor i in range(10):\n    print(\"7 * \", i, \": \", 7 * i)",
      "metadata": {
        "trusted": true
      },
      "execution_count": 20,
      "outputs": [
        {
          "name": "stdout",
          "text": "Table of 6\n6 *  0 :  0\n6 *  1 :  6\n6 *  2 :  12\n6 *  3 :  18\n6 *  4 :  24\n6 *  5 :  30\n6 *  6 :  36\n6 *  7 :  42\n6 *  8 :  48\n6 *  9 :  54\n7 *  0 :  0\n7 *  1 :  7\n7 *  2 :  14\n7 *  3 :  21\n7 *  4 :  28\n7 *  5 :  35\n7 *  6 :  42\n7 *  7 :  49\n7 *  8 :  56\n7 *  9 :  63\n",
          "output_type": "stream"
        }
      ]
    },
    {
      "cell_type": "markdown",
      "source": "<details><summary>Click here for the hint</summary>\n\nWrite two for loops. One to print the multiplication table of 6 and the other for 7\n\n</details>\n",
      "metadata": {}
    },
    {
      "cell_type": "markdown",
      "source": "<details><summary>Click here for the solution</summary>\n\n```python\nprint(\"Multiplication table of 6:\")\nfor i in range (10):\n    print(\"6*\",i,\"=\",6*i)\nprint(\"Multiplication table of 7:\")\nfor i in range (10):\n    print(\"7*\",i,\"=\",7*i)\n    \n```\n\n</details>\n",
      "metadata": {}
    },
    {
      "cell_type": "markdown",
      "source": "<hr>\n",
      "metadata": {}
    },
    {
      "cell_type": "markdown",
      "source": "The following is a list of animals in a National Zoo. \n<code>Animals = [\"lion\", \"giraffe\", \"gorilla\", \"parrots\", \"crocodile\",\"deer\", \"swan\"]</code>\n\nYour brother needs to write an essay on the animals whose names are made of 7 letters. Help him find those animals through a <code>while</code> loop and create a separate list of such animals.\n",
      "metadata": {}
    },
    {
      "cell_type": "code",
      "source": "# Write your code here\nAnimals = [\"lion\", \"giraffe\", \"gorilla\", \"parrots\", \"crocodile\",\"deer\", \"swan\"]\nnew_animals = []\ni=0\nwhile i<len(Animals):\n    j=Animals[i]\n    if(len(j)==7):\n        new_animals.append(j)\n    i=i+1\nprint(new_animals)\n",
      "metadata": {
        "trusted": true
      },
      "execution_count": null,
      "outputs": []
    },
    {
      "cell_type": "markdown",
      "source": "<details><summary>Click here for hint</summary>\n\nUse while loop to iterate over the elements of the list. Use if-else statement inside the for loop to check the length of each element and if the length is 7, add the element to a new list.\n\n</details>\n",
      "metadata": {}
    },
    {
      "cell_type": "markdown",
      "source": "<details><summary>Click here for the solution</summary>\n\n```python\n\nAnimals = [\"lion\", \"giraffe\", \"gorilla\", \"parrots\", \"crocodile\",\"deer\", \"swan\"]\nNew = []\ni=0\nwhile i<len(Animals):\n    j=Animals[i]\n    if(len(j)==7):\n        New.append(j)\n    i=i+1\nprint(New)\n    \n```\n\n</details>\n",
      "metadata": {}
    },
    {
      "cell_type": "markdown",
      "source": "<hr>\n\n<h3>Congratulations, you have completed lab on loops<h3> \n<hr>\n",
      "metadata": {}
    },
    {
      "cell_type": "markdown",
      "source": "## Author\n\n<a href=\"https://www.linkedin.com/in/joseph-s-50398b136/?utm_medium=Exinfluencer&utm_source=Exinfluencer&utm_content=000026UJ&utm_term=10006555&utm_id=NA-SkillsNetwork-Channel-SkillsNetworkCoursesIBMDeveloperSkillsNetworkPY0101ENSkillsNetwork1005-2023-01-01\">Joseph Santarcangelo</a>\n\n\n## Other contributors\n\n<a href=\"www.linkedin.com/in/jiahui-mavis-zhou-a4537814a\">Mavis Zhou</a>\n\n\n## Change Log\n\n\n|  Date (YYYY-MM-DD) |  Version | Changed By  |  Change Description |\n|---|---|---|---|\n| 2023-05-10  | 2.4  | Shreya  | Added real-life practise problems |\n| 2022-05-12  | 2.3  | Amrutha  | Changed the markdown solution |\n| 2022-02-24  | 2.2  | Hema  | Changed the markdown solution |\n| 2022-01-10  | 2.1  | Malika  | Removed the readme for GitShare|\n| 2020-08-26  | 2.0  | Lavanya | Moved lab to course repo in GitLab |\n|   |   |   |   |\n|   |   |   |   |\n\n\n\n<hr/>\n\n## <h3 align=\"center\"> © IBM Corporation 2020. All rights reserved. <h3/>\n",
      "metadata": {}
    }
  ]
}